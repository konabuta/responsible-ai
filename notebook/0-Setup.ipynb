{
 "cells": [
  {
   "cell_type": "markdown",
   "metadata": {},
   "source": [
    "## 1. conda 環境のセットアップ\n",
    "\n",
    "Jupyter Notebook を稼働させるのに必要な Python ライブラリのインストールを行います。Azure Machine Learning Compute Instance のターミナル (Terminal) で操作する前提で記載しています。本 Notebook は `Python 3.6 - Azure ML` カーネルで動かしてください。\n"
   ]
  },
  {
   "cell_type": "markdown",
   "metadata": {},
   "source": [
    "### conda 環境の作成と Python ライブラリのインストール\n",
    "Compute Instance のターミナル (Terminal) を開いて作業します。"
   ]
  },
  {
   "cell_type": "markdown",
   "metadata": {},
   "source": [
    "#### Part 1 : Explainable Boosting Machine による解釈性の高いモデル開発"
   ]
  },
  {
   "cell_type": "markdown",
   "metadata": {},
   "source": [
    "```shell\n",
    "envname=\"rai-ebm\"\n",
    "cd responsible-ai\n",
    "conda create -n $envname python=3.8 -y\n",
    "conda init bash\n",
    "source ~/.bashrc\n",
    "conda activate $envname\n",
    "pip install -r environments/requirements-ebm.txt\n",
    "/anaconda/envs/$envname/bin/python -m ipykernel install --user --name $envname --display-name $envname\n",
    "```"
   ]
  },
  {
   "cell_type": "markdown",
   "metadata": {},
   "source": [
    "#### Part 2 : Gradient Boosting 回帰モデルの SHAP による説明"
   ]
  },
  {
   "cell_type": "markdown",
   "metadata": {},
   "source": [
    "```shell\n",
    "envname=\"rai-shap\"\n",
    "cd responsible-ai\n",
    "conda create -n $envname python=3.8 -y\n",
    "conda init bash\n",
    "source ~/.bashrc\n",
    "conda activate $envname\n",
    "pip install -r environments/requirements-shap.txt\n",
    "/anaconda/envs/$envname/bin/python -m ipykernel install --user --name $envname --display-name $envname\n",
    "```"
   ]
  },
  {
   "cell_type": "markdown",
   "metadata": {},
   "source": [
    "#### Part 3 : LightGBM 分類モデルの SHAP による説明と Error Analysis + Azure ML"
   ]
  },
  {
   "cell_type": "markdown",
   "metadata": {},
   "source": [
    "```shell\n",
    "envname=\"rai-aml\"\n",
    "cd responsible-ai\n",
    "conda create -n $envname python=3.8 -y\n",
    "conda init bash\n",
    "source ~/.bashrc\n",
    "conda activate $envname\n",
    "pip install -r environments/requirements-aml.txt\n",
    "/anaconda/envs/$envname/bin/python -m ipykernel install --user --name $envname --display-name $envname\n",
    "```"
   ]
  },
  {
   "cell_type": "markdown",
   "metadata": {},
   "source": [
    "## 2. Azure ML Dataset の登録\n",
    "Notebook で利用するサンプルデータを Azure ML Dataset に登録しておきます。"
   ]
  },
  {
   "cell_type": "code",
   "execution_count": null,
   "metadata": {},
   "outputs": [],
   "source": [
    "from azureml.core import Workspace, Dataset\n",
    "\n",
    "# Azure ML Workspace 接続\n",
    "ws = Workspace.from_config()"
   ]
  },
  {
   "cell_type": "code",
   "execution_count": null,
   "metadata": {},
   "outputs": [],
   "source": [
    "# デフォルトの Datastore 取得\n",
    "datastore = ws.get_default_datastore()"
   ]
  },
  {
   "cell_type": "code",
   "execution_count": null,
   "metadata": {},
   "outputs": [],
   "source": [
    "# サンプルデータのアップロード\n",
    "datastore.upload_files(files=['../data/adult_census.csv'], \n",
    "                       target_path='sample', overwrite=True)"
   ]
  },
  {
   "cell_type": "code",
   "execution_count": null,
   "metadata": {},
   "outputs": [],
   "source": [
    "# Datastore 上のデータを Dataset として呼び出し\n",
    "dataset = Dataset.Tabular.from_delimited_files(path=(datastore, 'sample/adult_census.csv'))"
   ]
  },
  {
   "cell_type": "code",
   "execution_count": null,
   "metadata": {},
   "outputs": [],
   "source": [
    "# Azure ML Dataset を Pandas DataFrame に変換\n",
    "dataset.take(5).to_pandas_dataframe()"
   ]
  },
  {
   "cell_type": "code",
   "execution_count": null,
   "metadata": {},
   "outputs": [],
   "source": [
    "# Dataset 登録\n",
    "dataset.register(ws, 'adult_census', create_new_version=True)"
   ]
  },
  {
   "cell_type": "code",
   "execution_count": null,
   "metadata": {},
   "outputs": [],
   "source": []
  },
  {
   "cell_type": "code",
   "execution_count": null,
   "metadata": {},
   "outputs": [],
   "source": []
  }
 ],
 "metadata": {
  "kernelspec": {
   "display_name": "Python 3.6 - AzureML",
   "language": "python",
   "name": "python3-azureml"
  },
  "language_info": {
   "codemirror_mode": {
    "name": "ipython",
    "version": 3
   },
   "file_extension": ".py",
   "mimetype": "text/x-python",
   "name": "python",
   "nbconvert_exporter": "python",
   "pygments_lexer": "ipython3",
   "version": "3.6.9"
  }
 },
 "nbformat": 4,
 "nbformat_minor": 4
}
