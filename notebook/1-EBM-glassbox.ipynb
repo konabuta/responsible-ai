{
 "cells": [
  {
   "cell_type": "markdown",
   "source": [
    "## Explainable Boosting Machine (一般化加法モデル) による解釈性の高いモデル開発\n",
    "製造プロセスから採取されたセンサーデータと検査結果のデータを用いて、品質管理モデルを構築します。[interpretml - interpret](https://github.com/interpretml/interpret) に含まれる一般化加法モデルの推定アルゴリズム Explainable Boosting Machine を用います。"
   ],
   "metadata": {}
  },
  {
   "cell_type": "markdown",
   "source": [
    "### 0. 事前準備\n",
    "- Jupyter Kernel :  `rai-ebm` を選択する。\n",
    "    - [0-Setup.ipynb](./0-Setup.ipynb) の手順に従い構築しておくこと。\n",
    "- IDE : JupyterLab, Jupyter Notebook を推奨します。\n",
    "    - VSCode が widgets に対応していないためです。\n",
    "    "
   ],
   "metadata": {}
  },
  {
   "cell_type": "markdown",
   "source": [
    "### 1. データ準備\n",
    "データを Pandas DataFrame としてインポートします。"
   ],
   "metadata": {}
  },
  {
   "cell_type": "code",
   "execution_count": null,
   "source": [
    "import pandas as pd\n",
    "from sklearn.model_selection import train_test_split\n",
    "from helper import ebm_preserve_hist, ebm_preserve_global, ebm_preserve_local\n",
    "\n",
    "# 製造工程のサンプルのダミーデータ\n",
    "df = pd.read_csv(\"../data/Factory.csv\")"
   ],
   "outputs": [],
   "metadata": {}
  },
  {
   "cell_type": "code",
   "execution_count": null,
   "source": [
    "df.head()"
   ],
   "outputs": [],
   "metadata": {}
  },
  {
   "cell_type": "code",
   "execution_count": null,
   "source": [
    "from sklearn.model_selection import train_test_split\n",
    "\n",
    "# 説明変数の選択\n",
    "X = df.drop(columns=[\"Quality\",\"ID\"],axis=1)\n",
    "\n",
    "# 目的変数の選択\n",
    "y = df[\"Quality\"].values\n",
    "\n",
    "# 学習データとテストデータに分割\n",
    "X_train, X_test, y_train, y_test = train_test_split(X, y, test_size=0.1, random_state=100, stratify=y)"
   ],
   "outputs": [],
   "metadata": {}
  },
  {
   "cell_type": "markdown",
   "source": [
    "### 2. データ探索\n",
    "InterpreML にはデータの可視化のためのメソッドも組み込まれています。"
   ],
   "metadata": {}
  },
  {
   "cell_type": "code",
   "execution_count": null,
   "source": [
    "from interpret import show\n",
    "from interpret.data import ClassHistogram\n",
    "\n",
    "hist = ClassHistogram().explain_data(X_train, y_train, name = 'Train Data')\n",
    "show(hist) # 表示されない場合はセル実行を再試行してください。"
   ],
   "outputs": [],
   "metadata": {}
  },
  {
   "cell_type": "code",
   "execution_count": null,
   "source": [
    "# # for vscode user\n",
    "# ebm_preserve_hist(hist, 'hist')"
   ],
   "outputs": [],
   "metadata": {}
  },
  {
   "cell_type": "markdown",
   "source": [
    "### 3. Explainable Boosting Machine (EBM) によるモデル学習\n",
    "解釈性の高い EBM アルゴリズムによって一般化加法モデルの推定を行います。交互作用項を考慮したいときは `interactions` で組み合わせ数や列インデックス番号の組み合わせを指定します。"
   ],
   "metadata": {}
  },
  {
   "cell_type": "code",
   "execution_count": null,
   "source": [
    "from interpret.glassbox import ExplainableBoostingClassifier, LogisticRegression, ClassificationTree, DecisionListClassifier\n",
    "seed = 1234\n",
    "ebm = ExplainableBoostingClassifier(random_state=seed, interactions=4)\n",
    "ebm.fit(X_train, y_train)   #Works on dataframes and numpy arrays"
   ],
   "outputs": [],
   "metadata": {}
  },
  {
   "cell_type": "markdown",
   "source": [
    "### 4. モデル解釈 (グローバル)\n",
    "モデルの重要度と各説明変数や交互作用項の予測値に対する寄与度のグラフを表示します。"
   ],
   "metadata": {}
  },
  {
   "cell_type": "code",
   "execution_count": null,
   "source": [
    "ebm_global = ebm.explain_global(name='EBM')\n",
    "show(ebm_global)"
   ],
   "outputs": [],
   "metadata": {}
  },
  {
   "cell_type": "code",
   "execution_count": null,
   "source": [
    "# # for vscode user\n",
    "# ebm_preserve_global(ebm_global, 'ebm_global')\n",
    "# ebm_preserve_local(ebm_global, 'ebm_global')"
   ],
   "outputs": [],
   "metadata": {}
  },
  {
   "cell_type": "markdown",
   "source": [
    "### 5. モデル解釈 (ローカル)\n",
    "学習済みの EBM モデルから算出されたテストデータの個々の予測値の解釈を行います。"
   ],
   "metadata": {}
  },
  {
   "cell_type": "code",
   "execution_count": null,
   "source": [
    "# 例として、テストデータの冒頭 20 個のデータを対象\n",
    "ebm_local = ebm.explain_local(X_test[:20], y_test[:20], name='EBM')\n",
    "show(ebm_local)"
   ],
   "outputs": [],
   "metadata": {}
  },
  {
   "cell_type": "code",
   "execution_count": null,
   "source": [
    "# # for vscode user\n",
    "# ebm_preserve_local(ebm_local, 'ebm_local')"
   ],
   "outputs": [],
   "metadata": {}
  },
  {
   "cell_type": "markdown",
   "source": [
    "###  6. EBM モデルの精度確認\n",
    "モデル精度を ROC で確認します。"
   ],
   "metadata": {}
  },
  {
   "cell_type": "code",
   "execution_count": null,
   "source": [
    "from interpret.perf import ROC\n",
    "\n",
    "ebm_perf = ROC(ebm.predict_proba).explain_perf(X_test, y_test, name='EBM')\n",
    "show(ebm_perf)"
   ],
   "outputs": [],
   "metadata": {}
  },
  {
   "cell_type": "code",
   "execution_count": null,
   "source": [
    "# # for vscode user\n",
    "# ebm_preserve_global(ebm_perf, 'ebm_perf')"
   ],
   "outputs": [],
   "metadata": {}
  },
  {
   "cell_type": "markdown",
   "source": [
    "### 7. ロジスティック回帰、決定木モデルの学習"
   ],
   "metadata": {}
  },
  {
   "cell_type": "code",
   "execution_count": null,
   "source": [
    "from interpret.glassbox import LogisticRegression, ClassificationTree\n",
    "\n",
    "X_enc = pd.get_dummies(X, prefix_sep='.')\n",
    "feature_names = list(X_enc.columns)\n",
    "X_train_enc, X_test_enc, y_train, y_test = train_test_split(X_enc, y, test_size=0.20, random_state=seed)\n",
    "\n",
    "lr = LogisticRegression(random_state=seed, feature_names=feature_names, penalty='l2')\n",
    "lr.fit(X_train_enc, y_train)\n",
    "\n",
    "tree = ClassificationTree()\n",
    "tree.fit(X_train_enc, y_train)"
   ],
   "outputs": [],
   "metadata": {
    "scrolled": true
   }
  },
  {
   "cell_type": "markdown",
   "source": [
    "### 8. ダッシュボードでのモデル比較"
   ],
   "metadata": {}
  },
  {
   "cell_type": "code",
   "execution_count": null,
   "source": [
    "lr_perf = ROC(lr.predict_proba).explain_perf(X_test_enc, y_test, name='Logistic Regression')\n",
    "tree_perf = ROC(tree.predict_proba).explain_perf(X_test_enc, y_test, name='Classification Tree')\n",
    "\n",
    "show(lr_perf)\n",
    "show(tree_perf)\n",
    "show(ebm_perf)"
   ],
   "outputs": [],
   "metadata": {}
  },
  {
   "cell_type": "code",
   "execution_count": null,
   "source": [
    "# ebm_preserve_global(lr_perf, 'lr_perf')\n",
    "# ebm_preserve_global(tree_perf, 'tree_perf')"
   ],
   "outputs": [],
   "metadata": {}
  },
  {
   "cell_type": "markdown",
   "source": [
    "### 9. モデル解釈の比較 (グローバル、ローカル)"
   ],
   "metadata": {}
  },
  {
   "cell_type": "markdown",
   "source": [
    "#### Global Explain"
   ],
   "metadata": {}
  },
  {
   "cell_type": "code",
   "execution_count": null,
   "source": [
    "lr_global = lr.explain_global(name='LR')\n",
    "tree_global = tree.explain_global(name='Tree')\n",
    "\n",
    "show(lr_global)\n",
    "show(tree_global)\n",
    "show(ebm_global)"
   ],
   "outputs": [],
   "metadata": {}
  },
  {
   "cell_type": "code",
   "execution_count": null,
   "source": [
    "# # Decision Tree は Dash を利用しているが、Intepret (version 0.2.5) が Dash の保存をまだサポートしていない\n",
    "# ebm_preserve_global(lr_global, 'lr_global')\n",
    "# ebm_preserve_local(lr_global, 'lr_global')\n"
   ],
   "outputs": [],
   "metadata": {}
  },
  {
   "cell_type": "markdown",
   "source": [
    "#### Local Explain"
   ],
   "metadata": {}
  },
  {
   "cell_type": "code",
   "execution_count": null,
   "source": [
    "lr_local = lr.explain_local(X_test[:20], y_test[:20], name='LR')\n",
    "tree_local = tree.explain_local(X_test[:20], y_test[:20], name='Tree')\n",
    "\n",
    "show(lr_local)\n",
    "show(tree_local)\n",
    "show(ebm_local)"
   ],
   "outputs": [],
   "metadata": {}
  },
  {
   "cell_type": "code",
   "execution_count": null,
   "source": [
    "# # Decision Tree は Dash を利用しているが、Intepret (version 0.2.5) が Dash の保存をまだサポートしていない\n",
    "# ebm_preserve_local(lr_local, 'lr_local')"
   ],
   "outputs": [],
   "metadata": {}
  },
  {
   "cell_type": "markdown",
   "source": [
    "#### ダッシュボード\n",
    "※ interpret バージョン 0.2.5 時点では、このダッシュボード機能はクラウド環境で利用できません。"
   ],
   "metadata": {}
  },
  {
   "cell_type": "code",
   "execution_count": null,
   "source": [
    "# EBM、ロジスティック回帰、決定木の比較を行うダッシュボード\n",
    "show([hist, lr_global, lr_local, lr_perf, tree_global, tree_local, tree_perf, ebm_global, ebm_local, ebm_perf], share_tables=True)"
   ],
   "outputs": [],
   "metadata": {}
  },
  {
   "cell_type": "code",
   "execution_count": null,
   "source": [],
   "outputs": [],
   "metadata": {}
  }
 ],
 "metadata": {
  "kernelspec": {
   "display_name": "rai-ebm",
   "language": "python",
   "name": "rai-ebm"
  },
  "language_info": {
   "codemirror_mode": {
    "name": "ipython",
    "version": 3
   },
   "file_extension": ".py",
   "mimetype": "text/x-python",
   "name": "python",
   "nbconvert_exporter": "python",
   "pygments_lexer": "ipython3",
   "version": "3.8.10"
  }
 },
 "nbformat": 4,
 "nbformat_minor": 4
}