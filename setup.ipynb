{
 "cells": [
  {
   "cell_type": "markdown",
   "metadata": {},
   "source": [
    "# 事前準備\n",
    "コードを実行するのに必要なセットアップをします。\n",
    "\n",
    "### アウトライン\n",
    "- Python 環境のセットアップ\n",
    "- データセット (Datasets) の登録"
   ]
  },
  {
   "cell_type": "markdown",
   "metadata": {},
   "source": [
    "### Python 環境のセットアップ\n",
    "\n",
    "コード実行に必要な Python ライブラリのインストールを行います。Azure Machine Learning の Compute Instance のターミナル (Terminal) で操作する前提で記載しています。本ノートブックは `azureml_py36 (Python 3.6.9)` カーネルで動かしてください。\n"
   ]
  },
  {
   "cell_type": "markdown",
   "metadata": {},
   "source": [
    "##### 1. Azure Machine Learning Compute Instance を起動します。\n",
    "\n",
    "クォータの空き状況などを考慮し適切な VM ファミリーを選択します。4 コア以上が推奨です。<br>\n",
    "<img src=\"docs/images/azureml-computeinstance1.png\" width=500><br>\n",
    "\n",
    "起動が完了すると状態が _実行中_ になります。アプリケーションのリンクから JupyterLab や VSCode などさまざまな開発環境が起動されます。<br>\n",
    "<img src=\"docs/images/azureml-computeinstance2.png\" width=500>\n",
    "\n"
   ]
  },
  {
   "cell_type": "markdown",
   "metadata": {},
   "source": [
    "##### 2. ターミナル (Terminal) を起動します。\n",
    "<img src=\"docs/images/azureml-computeinstance3.png\" width=500>\n"
   ]
  },
  {
   "cell_type": "markdown",
   "metadata": {},
   "source": [
    "##### 3. コマンド実行\n",
    "Terminal でコマンドを実行して Conda カーネルを作成します。"
   ]
  },
  {
   "cell_type": "markdown",
   "metadata": {},
   "source": [
    "下記のコマンドを実行します。\n",
    "\n",
    "#### Responsible AI Toolbox\n",
    "\n",
    "```shell\n",
    "envname=\"raitoolbox\"\n",
    "conda create -n $envname python=3.6 -y\n",
    "conda init bash\n",
    "source ~/.bashrc\n",
    "conda activate $envname\n",
    "pip install azureml-core==1.37.0.post1 raiwidgets==0.16.0 lightgbm===3.3.2 pandas==1.1.5 ipykernel\n",
    "python -m ipykernel install --user --name $envname --display-name $envname\n",
    "```"
   ]
  },
  {
   "cell_type": "markdown",
   "metadata": {},
   "source": [
    "#### Interpret\n",
    "\n",
    "```shell\n",
    "envname=\"interpret\"\n",
    "conda create -n $envname python=3.6 -y\n",
    "conda init bash\n",
    "source ~/.bashrc\n",
    "conda activate $envname\n",
    "pip install azureml-core==1.37.0.post1 interpret==0.2.7 ipykernel\n",
    "python -m ipykernel install --user --name $envname --display-name $envname\n",
    "```"
   ]
  },
  {
   "cell_type": "code",
   "execution_count": null,
   "metadata": {},
   "outputs": [],
   "source": []
  }
 ],
 "metadata": {
  "kernelspec": {
   "display_name": "Python 3.6 - AzureML",
   "language": "python",
   "name": "python3-azureml"
  },
  "language_info": {
   "codemirror_mode": {
    "name": "ipython",
    "version": 3
   },
   "file_extension": ".py",
   "mimetype": "text/x-python",
   "name": "python",
   "nbconvert_exporter": "python",
   "pygments_lexer": "ipython3",
   "version": "3.6.9"
  }
 },
 "nbformat": 4,
 "nbformat_minor": 4
}
